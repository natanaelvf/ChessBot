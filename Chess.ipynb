{
 "cells": [
  {
   "cell_type": "code",
   "execution_count": 17,
   "id": "947b0713",
   "metadata": {},
   "outputs": [],
   "source": [
    "import numpy as np\n",
    "board = np.array([[-5,-3,-4,-10,-100,-4,-3,-5],\\\n",
    "         [-1,-1,-1,-1,-1,-1,-1,-1],\\\n",
    "         [0,0,0,0,0,0,0,0],\\\n",
    "         [0,0,0,0,0,0,0,0],\\\n",
    "         [0,0,0,0,0,0,0,0],\\\n",
    "         [0,0,0,0,0,0,0,0],\\\n",
    "         [1,1,1,1,1,1,1,1],\\\n",
    "         [5,3,4,10,100,4,3,5]])"
   ]
  },
  {
   "cell_type": "code",
   "execution_count": 38,
   "id": "db9ce3c9",
   "metadata": {},
   "outputs": [
    {
     "name": "stdout",
     "output_type": "stream",
     "text": [
      "-5\n",
      "-3\n",
      "-4\n",
      "-10\n",
      "-100\n",
      "-4\n",
      "-3\n",
      "-5\n",
      "-1\n",
      "-1\n",
      "-1\n",
      "-1\n",
      "-1\n",
      "-1\n",
      "-1\n",
      "-1\n"
     ]
    }
   ],
   "source": [
    "for x in range(8) :\n",
    "    for y in range(8) :\n",
    "        if board[x][y] < 0 :\n",
    "            print(board[x][y])"
   ]
  },
  {
   "cell_type": "code",
   "execution_count": 43,
   "id": "2c444047",
   "metadata": {},
   "outputs": [
    {
     "name": "stdout",
     "output_type": "stream",
     "text": [
      "8 a   8 b   8 c   8 d   8 e   8 f   8 g   8 h   \n",
      "\n",
      "7 a   7 b   7 c   7 d   7 e   7 f   7 g   7 h   \n",
      "\n",
      "6 a   6 b   6 c   6 d   6 e   6 f   6 g   6 h   \n",
      "\n",
      "5 a   5 b   5 c   5 d   5 e   5 f   5 g   5 h   \n",
      "\n",
      "4 a   4 b   4 c   4 d   4 e   4 f   4 g   4 h   \n",
      "\n",
      "3 a   3 b   3 c   3 d   3 e   3 f   3 g   3 h   \n",
      "\n",
      "2 a   2 b   2 c   2 d   2 e   2 f   2 g   2 h   \n",
      "\n",
      "1 a   1 b   1 c   1 d   1 e   1 f   1 g   1 h   \n",
      "\n"
     ]
    }
   ],
   "source": [
    "\n",
    "for x in range(8, 0, -1) :\n",
    "    for y in range(ord('a'), ord('h')+1) :\n",
    "        print(x,chr(y),'  ',end=\"\")\n",
    "    print()\n",
    "    print()"
   ]
  },
  {
   "cell_type": "code",
   "execution_count": null,
   "id": "1d4f4998",
   "metadata": {},
   "outputs": [],
   "source": [
    "for x in range(8) :\n",
    "    for y in range(8) :\n",
    "        print(x,y,'  ',end=\"\")\n",
    "    print()\n",
    "    print()"
   ]
  }
 ],
 "metadata": {
  "kernelspec": {
   "display_name": "Python 3",
   "language": "python",
   "name": "python3"
  },
  "language_info": {
   "codemirror_mode": {
    "name": "ipython",
    "version": 3
   },
   "file_extension": ".py",
   "mimetype": "text/x-python",
   "name": "python",
   "nbconvert_exporter": "python",
   "pygments_lexer": "ipython3",
   "version": "3.8.8"
  }
 },
 "nbformat": 4,
 "nbformat_minor": 5
}
